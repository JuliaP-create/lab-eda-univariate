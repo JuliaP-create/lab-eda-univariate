{
 "cells": [
  {
   "cell_type": "markdown",
   "id": "cca613a5",
   "metadata": {},
   "source": [
    "## Lab - EDA Univariate Analysis: Diving into Amazon UK Product Insights\n",
    "\n",
    "**Objective**: Explore the product listing dynamics on Amazon UK to extract actionable business insights. By understanding the distribution, central tendencies, and relationships of various product attributes, businesses can make more informed decisions on product positioning, pricing strategies, and inventory management.\n",
    "\n",
    "**Dataset**: This lab utilizes the [Amazon UK product dataset](https://www.kaggle.com/datasets/asaniczka/uk-optimal-product-price-prediction/)\n",
    "which provides information on product categories, brands, prices, ratings, and more from from Amazon UK. You'll need to download it to start working with it."
   ]
  },
  {
   "cell_type": "markdown",
   "id": "15db3943",
   "metadata": {},
   "source": [
    "### Part 1: Understanding Product Categories\n",
    "\n",
    "**Business Question**: What are the most popular product categories on Amazon UK, and how do they compare in terms of listing frequency?"
   ]
  },
  {
   "cell_type": "markdown",
   "id": "8ceac045",
   "metadata": {},
   "source": [
    "1. **Frequency Tables**:\n",
    "    - Generate a frequency table for the product `category`.\n",
    "    - Which are the top 5 most listed product categories?"
   ]
  },
  {
   "cell_type": "code",
   "execution_count": 155,
   "id": "16013f65",
   "metadata": {},
   "outputs": [],
   "source": [
    "# Importing the Seaborn library for advanced data visualization (as sns)\n",
    "import seaborn as sns\n",
    "\n",
    "# Importing the Matplotlib library for basic plotting functionalities (as plt)\n",
    "import matplotlib.pyplot as plt\n",
    "\n",
    "# Importing the Pandas library for data manipulation and analysis (as pd)\n",
    "import pandas as pd\n",
    "\n",
    "# Importing the NumPy library for numerical operations (as np)\n",
    "import numpy as np"
   ]
  },
  {
   "cell_type": "code",
   "execution_count": 156,
   "id": "6935f9f9",
   "metadata": {},
   "outputs": [
    {
     "data": {
      "text/plain": [
       "(2443651, 9)"
      ]
     },
     "metadata": {},
     "output_type": "display_data"
    },
    {
     "data": {
      "text/html": [
       "<div>\n",
       "<style scoped>\n",
       "    .dataframe tbody tr th:only-of-type {\n",
       "        vertical-align: middle;\n",
       "    }\n",
       "\n",
       "    .dataframe tbody tr th {\n",
       "        vertical-align: top;\n",
       "    }\n",
       "\n",
       "    .dataframe thead th {\n",
       "        text-align: right;\n",
       "    }\n",
       "</style>\n",
       "<table border=\"1\" class=\"dataframe\">\n",
       "  <thead>\n",
       "    <tr style=\"text-align: right;\">\n",
       "      <th></th>\n",
       "      <th>uid</th>\n",
       "      <th>asin</th>\n",
       "      <th>title</th>\n",
       "      <th>stars</th>\n",
       "      <th>reviews</th>\n",
       "      <th>price</th>\n",
       "      <th>isBestSeller</th>\n",
       "      <th>boughtInLastMonth</th>\n",
       "      <th>category</th>\n",
       "    </tr>\n",
       "  </thead>\n",
       "  <tbody>\n",
       "    <tr>\n",
       "      <th>0</th>\n",
       "      <td>1</td>\n",
       "      <td>B09B96TG33</td>\n",
       "      <td>Echo Dot (5th generation, 2022 release) | Big ...</td>\n",
       "      <td>4.7</td>\n",
       "      <td>15308</td>\n",
       "      <td>21.99</td>\n",
       "      <td>False</td>\n",
       "      <td>0</td>\n",
       "      <td>Hi-Fi Speakers</td>\n",
       "    </tr>\n",
       "    <tr>\n",
       "      <th>1</th>\n",
       "      <td>2</td>\n",
       "      <td>B01HTH3C8S</td>\n",
       "      <td>Anker Soundcore mini, Super-Portable Bluetooth...</td>\n",
       "      <td>4.7</td>\n",
       "      <td>98099</td>\n",
       "      <td>23.99</td>\n",
       "      <td>True</td>\n",
       "      <td>0</td>\n",
       "      <td>Hi-Fi Speakers</td>\n",
       "    </tr>\n",
       "    <tr>\n",
       "      <th>2</th>\n",
       "      <td>3</td>\n",
       "      <td>B09B8YWXDF</td>\n",
       "      <td>Echo Dot (5th generation, 2022 release) | Big ...</td>\n",
       "      <td>4.7</td>\n",
       "      <td>15308</td>\n",
       "      <td>21.99</td>\n",
       "      <td>False</td>\n",
       "      <td>0</td>\n",
       "      <td>Hi-Fi Speakers</td>\n",
       "    </tr>\n",
       "    <tr>\n",
       "      <th>3</th>\n",
       "      <td>4</td>\n",
       "      <td>B09B8T5VGV</td>\n",
       "      <td>Echo Dot with clock (5th generation, 2022 rele...</td>\n",
       "      <td>4.7</td>\n",
       "      <td>7205</td>\n",
       "      <td>31.99</td>\n",
       "      <td>False</td>\n",
       "      <td>0</td>\n",
       "      <td>Hi-Fi Speakers</td>\n",
       "    </tr>\n",
       "    <tr>\n",
       "      <th>4</th>\n",
       "      <td>5</td>\n",
       "      <td>B09WX6QD65</td>\n",
       "      <td>Introducing Echo Pop | Full sound compact Wi-F...</td>\n",
       "      <td>4.6</td>\n",
       "      <td>1881</td>\n",
       "      <td>17.99</td>\n",
       "      <td>False</td>\n",
       "      <td>0</td>\n",
       "      <td>Hi-Fi Speakers</td>\n",
       "    </tr>\n",
       "  </tbody>\n",
       "</table>\n",
       "</div>"
      ],
      "text/plain": [
       "   uid        asin                                              title  stars  \\\n",
       "0    1  B09B96TG33  Echo Dot (5th generation, 2022 release) | Big ...    4.7   \n",
       "1    2  B01HTH3C8S  Anker Soundcore mini, Super-Portable Bluetooth...    4.7   \n",
       "2    3  B09B8YWXDF  Echo Dot (5th generation, 2022 release) | Big ...    4.7   \n",
       "3    4  B09B8T5VGV  Echo Dot with clock (5th generation, 2022 rele...    4.7   \n",
       "4    5  B09WX6QD65  Introducing Echo Pop | Full sound compact Wi-F...    4.6   \n",
       "\n",
       "   reviews  price  isBestSeller  boughtInLastMonth        category  \n",
       "0    15308  21.99         False                  0  Hi-Fi Speakers  \n",
       "1    98099  23.99          True                  0  Hi-Fi Speakers  \n",
       "2    15308  21.99         False                  0  Hi-Fi Speakers  \n",
       "3     7205  31.99         False                  0  Hi-Fi Speakers  \n",
       "4     1881  17.99         False                  0  Hi-Fi Speakers  "
      ]
     },
     "metadata": {},
     "output_type": "display_data"
    },
    {
     "name": "stdout",
     "output_type": "stream",
     "text": [
      "<class 'pandas.core.frame.DataFrame'>\n",
      "RangeIndex: 2443651 entries, 0 to 2443650\n",
      "Data columns (total 9 columns):\n",
      " #   Column             Dtype  \n",
      "---  ------             -----  \n",
      " 0   uid                int64  \n",
      " 1   asin               object \n",
      " 2   title              object \n",
      " 3   stars              float64\n",
      " 4   reviews            int64  \n",
      " 5   price              float64\n",
      " 6   isBestSeller       bool   \n",
      " 7   boughtInLastMonth  int64  \n",
      " 8   category           object \n",
      "dtypes: bool(1), float64(2), int64(3), object(3)\n",
      "memory usage: 151.5+ MB\n"
     ]
    },
    {
     "data": {
      "text/plain": [
       "None"
      ]
     },
     "metadata": {},
     "output_type": "display_data"
    }
   ],
   "source": [
    "amazon = pd.read_csv('amz_uk_price_prediction_dataset.csv')\n",
    "display(amazon.shape)\n",
    "display(amazon.head())\n",
    "display(amazon.info())"
   ]
  },
  {
   "cell_type": "code",
   "execution_count": 157,
   "id": "6e45f7c5",
   "metadata": {},
   "outputs": [
    {
     "data": {
      "text/html": [
       "<div>\n",
       "<style scoped>\n",
       "    .dataframe tbody tr th:only-of-type {\n",
       "        vertical-align: middle;\n",
       "    }\n",
       "\n",
       "    .dataframe tbody tr th {\n",
       "        vertical-align: top;\n",
       "    }\n",
       "\n",
       "    .dataframe thead th {\n",
       "        text-align: right;\n",
       "    }\n",
       "</style>\n",
       "<table border=\"1\" class=\"dataframe\">\n",
       "  <thead>\n",
       "    <tr style=\"text-align: right;\">\n",
       "      <th></th>\n",
       "      <th>uid</th>\n",
       "      <th>stars</th>\n",
       "      <th>reviews</th>\n",
       "      <th>price</th>\n",
       "      <th>boughtInLastMonth</th>\n",
       "    </tr>\n",
       "  </thead>\n",
       "  <tbody>\n",
       "    <tr>\n",
       "      <th>count</th>\n",
       "      <td>2.443651e+06</td>\n",
       "      <td>2.443651e+06</td>\n",
       "      <td>2.443651e+06</td>\n",
       "      <td>2.443651e+06</td>\n",
       "      <td>2.443651e+06</td>\n",
       "    </tr>\n",
       "    <tr>\n",
       "      <th>mean</th>\n",
       "      <td>1.370545e+06</td>\n",
       "      <td>2.152836e+00</td>\n",
       "      <td>4.806278e+02</td>\n",
       "      <td>8.924381e+01</td>\n",
       "      <td>2.589699e+01</td>\n",
       "    </tr>\n",
       "    <tr>\n",
       "      <th>std</th>\n",
       "      <td>8.160562e+05</td>\n",
       "      <td>2.194865e+00</td>\n",
       "      <td>5.944124e+03</td>\n",
       "      <td>3.456089e+02</td>\n",
       "      <td>2.404837e+02</td>\n",
       "    </tr>\n",
       "    <tr>\n",
       "      <th>min</th>\n",
       "      <td>1.000000e+00</td>\n",
       "      <td>0.000000e+00</td>\n",
       "      <td>0.000000e+00</td>\n",
       "      <td>0.000000e+00</td>\n",
       "      <td>0.000000e+00</td>\n",
       "    </tr>\n",
       "    <tr>\n",
       "      <th>25%</th>\n",
       "      <td>6.589215e+05</td>\n",
       "      <td>0.000000e+00</td>\n",
       "      <td>0.000000e+00</td>\n",
       "      <td>9.990000e+00</td>\n",
       "      <td>0.000000e+00</td>\n",
       "    </tr>\n",
       "    <tr>\n",
       "      <th>50%</th>\n",
       "      <td>1.349029e+06</td>\n",
       "      <td>0.000000e+00</td>\n",
       "      <td>0.000000e+00</td>\n",
       "      <td>1.909000e+01</td>\n",
       "      <td>0.000000e+00</td>\n",
       "    </tr>\n",
       "    <tr>\n",
       "      <th>75%</th>\n",
       "      <td>2.060686e+06</td>\n",
       "      <td>4.400000e+00</td>\n",
       "      <td>5.900000e+01</td>\n",
       "      <td>4.599000e+01</td>\n",
       "      <td>0.000000e+00</td>\n",
       "    </tr>\n",
       "    <tr>\n",
       "      <th>max</th>\n",
       "      <td>2.828593e+06</td>\n",
       "      <td>5.000000e+00</td>\n",
       "      <td>1.356658e+06</td>\n",
       "      <td>1.000000e+05</td>\n",
       "      <td>5.000000e+04</td>\n",
       "    </tr>\n",
       "  </tbody>\n",
       "</table>\n",
       "</div>"
      ],
      "text/plain": [
       "                uid         stars       reviews         price  \\\n",
       "count  2.443651e+06  2.443651e+06  2.443651e+06  2.443651e+06   \n",
       "mean   1.370545e+06  2.152836e+00  4.806278e+02  8.924381e+01   \n",
       "std    8.160562e+05  2.194865e+00  5.944124e+03  3.456089e+02   \n",
       "min    1.000000e+00  0.000000e+00  0.000000e+00  0.000000e+00   \n",
       "25%    6.589215e+05  0.000000e+00  0.000000e+00  9.990000e+00   \n",
       "50%    1.349029e+06  0.000000e+00  0.000000e+00  1.909000e+01   \n",
       "75%    2.060686e+06  4.400000e+00  5.900000e+01  4.599000e+01   \n",
       "max    2.828593e+06  5.000000e+00  1.356658e+06  1.000000e+05   \n",
       "\n",
       "       boughtInLastMonth  \n",
       "count       2.443651e+06  \n",
       "mean        2.589699e+01  \n",
       "std         2.404837e+02  \n",
       "min         0.000000e+00  \n",
       "25%         0.000000e+00  \n",
       "50%         0.000000e+00  \n",
       "75%         0.000000e+00  \n",
       "max         5.000000e+04  "
      ]
     },
     "execution_count": 157,
     "metadata": {},
     "output_type": "execute_result"
    }
   ],
   "source": [
    "num = amazon.select_dtypes(include=\"number\") \n",
    "cat = amazon.select_dtypes(exclude=\"number\")\n",
    "num.describe()"
   ]
  },
  {
   "cell_type": "code",
   "execution_count": 158,
   "id": "528b605e",
   "metadata": {},
   "outputs": [
    {
     "data": {
      "text/html": [
       "<div>\n",
       "<style scoped>\n",
       "    .dataframe tbody tr th:only-of-type {\n",
       "        vertical-align: middle;\n",
       "    }\n",
       "\n",
       "    .dataframe tbody tr th {\n",
       "        vertical-align: top;\n",
       "    }\n",
       "\n",
       "    .dataframe thead th {\n",
       "        text-align: right;\n",
       "    }\n",
       "</style>\n",
       "<table border=\"1\" class=\"dataframe\">\n",
       "  <thead>\n",
       "    <tr style=\"text-align: right;\">\n",
       "      <th></th>\n",
       "      <th>asin</th>\n",
       "      <th>title</th>\n",
       "      <th>isBestSeller</th>\n",
       "      <th>category</th>\n",
       "    </tr>\n",
       "  </thead>\n",
       "  <tbody>\n",
       "    <tr>\n",
       "      <th>0</th>\n",
       "      <td>B09B96TG33</td>\n",
       "      <td>Echo Dot (5th generation, 2022 release) | Big ...</td>\n",
       "      <td>False</td>\n",
       "      <td>Hi-Fi Speakers</td>\n",
       "    </tr>\n",
       "    <tr>\n",
       "      <th>1</th>\n",
       "      <td>B01HTH3C8S</td>\n",
       "      <td>Anker Soundcore mini, Super-Portable Bluetooth...</td>\n",
       "      <td>True</td>\n",
       "      <td>Hi-Fi Speakers</td>\n",
       "    </tr>\n",
       "    <tr>\n",
       "      <th>2</th>\n",
       "      <td>B09B8YWXDF</td>\n",
       "      <td>Echo Dot (5th generation, 2022 release) | Big ...</td>\n",
       "      <td>False</td>\n",
       "      <td>Hi-Fi Speakers</td>\n",
       "    </tr>\n",
       "    <tr>\n",
       "      <th>3</th>\n",
       "      <td>B09B8T5VGV</td>\n",
       "      <td>Echo Dot with clock (5th generation, 2022 rele...</td>\n",
       "      <td>False</td>\n",
       "      <td>Hi-Fi Speakers</td>\n",
       "    </tr>\n",
       "    <tr>\n",
       "      <th>4</th>\n",
       "      <td>B09WX6QD65</td>\n",
       "      <td>Introducing Echo Pop | Full sound compact Wi-F...</td>\n",
       "      <td>False</td>\n",
       "      <td>Hi-Fi Speakers</td>\n",
       "    </tr>\n",
       "  </tbody>\n",
       "</table>\n",
       "</div>"
      ],
      "text/plain": [
       "         asin                                              title  \\\n",
       "0  B09B96TG33  Echo Dot (5th generation, 2022 release) | Big ...   \n",
       "1  B01HTH3C8S  Anker Soundcore mini, Super-Portable Bluetooth...   \n",
       "2  B09B8YWXDF  Echo Dot (5th generation, 2022 release) | Big ...   \n",
       "3  B09B8T5VGV  Echo Dot with clock (5th generation, 2022 rele...   \n",
       "4  B09WX6QD65  Introducing Echo Pop | Full sound compact Wi-F...   \n",
       "\n",
       "   isBestSeller        category  \n",
       "0         False  Hi-Fi Speakers  \n",
       "1          True  Hi-Fi Speakers  \n",
       "2         False  Hi-Fi Speakers  \n",
       "3         False  Hi-Fi Speakers  \n",
       "4         False  Hi-Fi Speakers  "
      ]
     },
     "execution_count": 158,
     "metadata": {},
     "output_type": "execute_result"
    }
   ],
   "source": [
    "cat.head()"
   ]
  },
  {
   "cell_type": "code",
   "execution_count": 159,
   "id": "247f0804",
   "metadata": {},
   "outputs": [
    {
     "data": {
      "text/html": [
       "<div>\n",
       "<style scoped>\n",
       "    .dataframe tbody tr th:only-of-type {\n",
       "        vertical-align: middle;\n",
       "    }\n",
       "\n",
       "    .dataframe tbody tr th {\n",
       "        vertical-align: top;\n",
       "    }\n",
       "\n",
       "    .dataframe thead th {\n",
       "        text-align: right;\n",
       "    }\n",
       "</style>\n",
       "<table border=\"1\" class=\"dataframe\">\n",
       "  <thead>\n",
       "    <tr style=\"text-align: right;\">\n",
       "      <th></th>\n",
       "      <th>count</th>\n",
       "    </tr>\n",
       "    <tr>\n",
       "      <th>category</th>\n",
       "      <th></th>\n",
       "    </tr>\n",
       "  </thead>\n",
       "  <tbody>\n",
       "    <tr>\n",
       "      <th>Sports &amp; Outdoors</th>\n",
       "      <td>836265</td>\n",
       "    </tr>\n",
       "    <tr>\n",
       "      <th>Beauty</th>\n",
       "      <td>19312</td>\n",
       "    </tr>\n",
       "    <tr>\n",
       "      <th>Handmade Clothing, Shoes &amp; Accessories</th>\n",
       "      <td>19229</td>\n",
       "    </tr>\n",
       "    <tr>\n",
       "      <th>Bath &amp; Body</th>\n",
       "      <td>19092</td>\n",
       "    </tr>\n",
       "    <tr>\n",
       "      <th>Birthday Gifts</th>\n",
       "      <td>18978</td>\n",
       "    </tr>\n",
       "    <tr>\n",
       "      <th>...</th>\n",
       "      <td>...</td>\n",
       "    </tr>\n",
       "    <tr>\n",
       "      <th>Motorbike Chassis</th>\n",
       "      <td>107</td>\n",
       "    </tr>\n",
       "    <tr>\n",
       "      <th>Alexa Built-In Devices</th>\n",
       "      <td>107</td>\n",
       "    </tr>\n",
       "    <tr>\n",
       "      <th>Plugs</th>\n",
       "      <td>107</td>\n",
       "    </tr>\n",
       "    <tr>\n",
       "      <th>Smart Home Security &amp; Lighting</th>\n",
       "      <td>104</td>\n",
       "    </tr>\n",
       "    <tr>\n",
       "      <th>Smart Speakers</th>\n",
       "      <td>54</td>\n",
       "    </tr>\n",
       "  </tbody>\n",
       "</table>\n",
       "<p>296 rows × 1 columns</p>\n",
       "</div>"
      ],
      "text/plain": [
       "                                         count\n",
       "category                                      \n",
       "Sports & Outdoors                       836265\n",
       "Beauty                                   19312\n",
       "Handmade Clothing, Shoes & Accessories   19229\n",
       "Bath & Body                              19092\n",
       "Birthday Gifts                           18978\n",
       "...                                        ...\n",
       "Motorbike Chassis                          107\n",
       "Alexa Built-In Devices                     107\n",
       "Plugs                                      107\n",
       "Smart Home Security & Lighting             104\n",
       "Smart Speakers                              54\n",
       "\n",
       "[296 rows x 1 columns]"
      ]
     },
     "execution_count": 159,
     "metadata": {},
     "output_type": "execute_result"
    }
   ],
   "source": [
    "frequency_table = cat.category.value_counts()\n",
    "frequency_table=pd.DataFrame(frequency_table)\n",
    "frequency_table"
   ]
  },
  {
   "cell_type": "code",
   "execution_count": 160,
   "id": "5dec1018",
   "metadata": {},
   "outputs": [
    {
     "data": {
      "text/html": [
       "<div>\n",
       "<style scoped>\n",
       "    .dataframe tbody tr th:only-of-type {\n",
       "        vertical-align: middle;\n",
       "    }\n",
       "\n",
       "    .dataframe tbody tr th {\n",
       "        vertical-align: top;\n",
       "    }\n",
       "\n",
       "    .dataframe thead th {\n",
       "        text-align: right;\n",
       "    }\n",
       "</style>\n",
       "<table border=\"1\" class=\"dataframe\">\n",
       "  <thead>\n",
       "    <tr style=\"text-align: right;\">\n",
       "      <th></th>\n",
       "      <th>count</th>\n",
       "    </tr>\n",
       "  </thead>\n",
       "  <tbody>\n",
       "    <tr>\n",
       "      <th>count</th>\n",
       "      <td>296.000000</td>\n",
       "    </tr>\n",
       "    <tr>\n",
       "      <th>mean</th>\n",
       "      <td>8255.577703</td>\n",
       "    </tr>\n",
       "    <tr>\n",
       "      <th>std</th>\n",
       "      <td>48563.852727</td>\n",
       "    </tr>\n",
       "    <tr>\n",
       "      <th>min</th>\n",
       "      <td>54.000000</td>\n",
       "    </tr>\n",
       "    <tr>\n",
       "      <th>25%</th>\n",
       "      <td>258.000000</td>\n",
       "    </tr>\n",
       "    <tr>\n",
       "      <th>50%</th>\n",
       "      <td>5230.500000</td>\n",
       "    </tr>\n",
       "    <tr>\n",
       "      <th>75%</th>\n",
       "      <td>9276.000000</td>\n",
       "    </tr>\n",
       "    <tr>\n",
       "      <th>max</th>\n",
       "      <td>836265.000000</td>\n",
       "    </tr>\n",
       "  </tbody>\n",
       "</table>\n",
       "</div>"
      ],
      "text/plain": [
       "               count\n",
       "count     296.000000\n",
       "mean     8255.577703\n",
       "std     48563.852727\n",
       "min        54.000000\n",
       "25%       258.000000\n",
       "50%      5230.500000\n",
       "75%      9276.000000\n",
       "max    836265.000000"
      ]
     },
     "execution_count": 160,
     "metadata": {},
     "output_type": "execute_result"
    }
   ],
   "source": [
    "frequency_table.describe()"
   ]
  },
  {
   "cell_type": "markdown",
   "id": "6c93926b",
   "metadata": {},
   "source": [
    "2. **Visualizations**:\n",
    "    - Display the distribution of products across different categories using a bar chart. *If you face problems understanding the chart, do it for a subset of top categories.*\n",
    "    - For a subset of top categories, visualize their proportions using a pie chart. Does any category dominate the listings?"
   ]
  },
  {
   "cell_type": "code",
   "execution_count": 161,
   "id": "b5d77be8",
   "metadata": {},
   "outputs": [
    {
     "data": {
      "text/plain": [
       "pandas.core.frame.DataFrame"
      ]
     },
     "metadata": {},
     "output_type": "display_data"
    },
    {
     "data": {
      "text/plain": [
       "Index(['count'], dtype='object')"
      ]
     },
     "execution_count": 161,
     "metadata": {},
     "output_type": "execute_result"
    }
   ],
   "source": [
    "display(type(frequency_table))\n",
    "frequency_table.index\n",
    "frequency_table.columns"
   ]
  },
  {
   "cell_type": "code",
   "execution_count": 207,
   "id": "81b337b3",
   "metadata": {},
   "outputs": [
    {
     "name": "stderr",
     "output_type": "stream",
     "text": [
      "C:\\Users\\julia\\AppData\\Local\\Temp\\ipykernel_20000\\1558841866.py:2: FutureWarning: \n",
      "\n",
      "Passing `palette` without assigning `hue` is deprecated and will be removed in v0.14.0. Assign the `x` variable to `hue` and set `legend=False` for the same effect.\n",
      "\n",
      "  sns.barplot(\n"
     ]
    },
    {
     "data": {
      "image/png": "[encoded data removed]",
      "text/plain": [
       "<Figure size 1000x800 with 1 Axes>"
      ]
     },
     "metadata": {},
     "output_type": "display_data"
    }
   ],
   "source": [
    "plt.figure(figsize=(10, 8))\n",
    "sns.barplot(\n",
    "    x=\"category\",\n",
    "    y='count',\n",
    "    data=frequency_table.head(),\n",
    "\n",
    "    palette='deep',\n",
    "    legend=False,\n",
    ")\n",
    "plt.xticks(rotation=45, ha='right')  # making the legends rotate \n",
    "plt.title(\"Product Listing Frequency by Category\", fontsize=16, fontweight='bold')\n",
    "plt.tight_layout()  # ← ADD THIS to prevent cutoff\n",
    "plt.show()\n"
   ]
  },
  {
   "cell_type": "code",
   "execution_count": 163,
   "id": "1d40625f",
   "metadata": {},
   "outputs": [
    {
     "data": {
      "image/png": "[encoded data removed]",
      "text/plain": [
       "<Figure size 1200x1000 with 1 Axes>"
      ]
     },
     "metadata": {},
     "output_type": "display_data"
    }
   ],
   "source": [
    "plt.figure(figsize=(12, 10))\n",
    "\n",
    "# Create pie WITHOUT labels parameter\n",
    "wedges, texts, autotexts = plt.pie(\n",
    "    frequency_table.head()['count'],    # The values\n",
    "    autopct='%1.0f%%',\n",
    "    startangle=90,\n",
    "    colors=sns.color_palette('deep'),\n",
    "    pctdistance=0.85                      # ← Distance to center\n",
    "    # labeldistance=1.1   # ← Move labels further out\n",
    ")\n",
    "\n",
    "# Style percentage text (black)    # Leave this section empty for default, but still add autotexts definition\n",
    "for autotext in autotexts:\n",
    "    autotext.set_color('black')\n",
    "    autotext.set_fontweight('normal')\n",
    "    autotext.set_fontsize(12)\n",
    "\n",
    "# Add legend OUTSIDE to the right\n",
    "plt.legend(\n",
    "    wedges,\n",
    "    frequency_table.head().index,       # The labels\n",
    "    title=\"Categories\",\n",
    "    loc=\"upper left\",\n",
    "    bbox_to_anchor=(1.02, 1),\n",
    "    fontsize=14\n",
    ")\n",
    "\n",
    "plt.title('Frequency Distribution', fontsize=16, fontweight='bold')\n",
    "plt.tight_layout()\n",
    "plt.show()"
   ]
  },
  {
   "cell_type": "markdown",
   "id": "0f32a5ba",
   "metadata": {},
   "source": [
    "Answer: The category \"Sports & Outdoors\" constitutes 91.6% of top 5 largest categories."
   ]
  },
  {
   "cell_type": "markdown",
   "id": "0a8b3459",
   "metadata": {},
   "source": [
    "### Part 2: Delving into Product Pricing\n",
    "\n",
    "**Business Question**: How are products priced on Amazon UK, and are there specific price points or ranges that are more common?"
   ]
  },
  {
   "cell_type": "markdown",
   "id": "147929d6",
   "metadata": {},
   "source": [
    "1. **Measures of Centrality**:\n",
    "    - Calculate the mean, median, and mode for the `price` of products.\n",
    "    - What's the average price point of products listed? How does this compare with the most common price point (mode)?"
   ]
  },
  {
   "cell_type": "code",
   "execution_count": 164,
   "id": "60ecca9d",
   "metadata": {},
   "outputs": [
    {
     "name": "stdout",
     "output_type": "stream",
     "text": [
      "Mean: 89.24380943923661\n",
      "Median: 19.09\n",
      "Mode: 9.99\n"
     ]
    }
   ],
   "source": [
    "mean_value=amazon['price'].mean()\n",
    "median_value=amazon['price'].median()\n",
    "mode_value=amazon['price'].mode()[0]\n",
    "\n",
    "print(f\"Mean: {mean_value}\")\n",
    "print(f\"Median: {median_value}\")\n",
    "print(f\"Mode: {mode_value}\")"
   ]
  },
  {
   "cell_type": "code",
   "execution_count": 165,
   "id": "91489f4c",
   "metadata": {},
   "outputs": [
    {
     "name": "stdout",
     "output_type": "stream",
     "text": [
      "\n",
      "Comparison:\n",
      "The average price point is £89.24\n",
      "The most common price is £9.99\n",
      "The average price > the most common price\n",
      "Difference: £79.25\n"
     ]
    }
   ],
   "source": [
    "print(f\"\\nComparison:\")\n",
    "print(f\"The average price point is £{mean_value:.2f}\")\n",
    "print(f\"The most common price is £{mode_value:.2f}\")\n",
    "if mean_value>mode_value:\n",
    "    print(\"The average price > the most common price\")\n",
    "    print(f\"Difference: £{(mean_value - mode_value):.2f}\")\n",
    "else:\n",
    "    print(\"The average price < the most common price\")\n",
    "    print(f\"Difference: £{(mode_value - mean_value):.2f}\")"
   ]
  },
  {
   "cell_type": "markdown",
   "id": "0e058c6b",
   "metadata": {},
   "source": [
    "2. **Measures of Dispersion**:\n",
    "    - Determine the variance, standard deviation, range, and interquartile range for product `price`.\n",
    "    - How varied are the product prices? Are there any indicators of a significant spread in prices?"
   ]
  },
  {
   "cell_type": "code",
   "execution_count": 166,
   "id": "7f8bd90c",
   "metadata": {},
   "outputs": [
    {
     "name": "stdout",
     "output_type": "stream",
     "text": [
      "Variance: 119445.49\n",
      "Standard deviation: 345.61\n",
      "Range: 100000.0\n",
      "Interquartile range: 36.0\n"
     ]
    }
   ],
   "source": [
    "variance=round(amazon['price'].var(), 2)\n",
    "stdev=round(amazon['price'].std(), 2)\n",
    "price_range=round(amazon['price'].max()-amazon['price'].min(), 2)\n",
    "iq_range=round((amazon['price'].quantile(0.75) - amazon['price'].quantile(0.25)), 2)  \n",
    "\n",
    "print(f\"Variance: {variance}\")\n",
    "print(f\"Standard deviation: {stdev}\")\n",
    "print(f\"Range: {price_range}\")\n",
    "print(f\"Interquartile range: {iq_range}\")\n"
   ]
  },
  {
   "cell_type": "markdown",
   "id": "fb35b61e",
   "metadata": {},
   "source": [
    "Answer: The product prices vary significantly. There are several indicators that support this statement:  \n",
    "    - The price range is £100000, which is 1120.6 times larger than the averaged price (£89.24), 10010.0 times larger than the mode price (£9,99) and 5238.3 times larger than the median price (£19,09).    \n",
    "    - Standard deviation is £345.61, which is 3.9 times larger than the average price and 18.1 times larger than the median price."
   ]
  },
  {
   "cell_type": "markdown",
   "id": "ca14d786",
   "metadata": {},
   "source": [
    "3. **Visualizations**:\n",
    "    - Is there a specific price range where most products fall? Plot a histogram to visualize the distribution of product prices. *If its hard to read these diagrams, think why this is, and explain how it could be solved.*.\n",
    "    - Are there products that are priced significantly higher than the rest? Use a box plot to showcase the spread and potential outliers in product pricing. "
   ]
  },
  {
   "cell_type": "code",
   "execution_count": 167,
   "id": "239baba1",
   "metadata": {},
   "outputs": [
    {
     "data": {
      "text/plain": [
       "count    2.443651e+06\n",
       "mean     8.924381e+01\n",
       "std      3.456089e+02\n",
       "min      0.000000e+00\n",
       "25%      9.990000e+00\n",
       "50%      1.909000e+01\n",
       "75%      4.599000e+01\n",
       "max      1.000000e+05\n",
       "Name: price, dtype: float64"
      ]
     },
     "execution_count": 167,
     "metadata": {},
     "output_type": "execute_result"
    }
   ],
   "source": [
    "amazon['price'].describe()"
   ]
  },
  {
   "cell_type": "code",
   "execution_count": 168,
   "id": "dabe2e75",
   "metadata": {},
   "outputs": [
    {
     "data": {
      "image/png": "[encoded data removed]",
      "text/plain": [
       "<Figure size 640x480 with 1 Axes>"
      ]
     },
     "metadata": {},
     "output_type": "display_data"
    }
   ],
   "source": [
    "sns.histplot(amazon.price, bins=\"auto\")\n",
    "plt.title('Distribution of Product Prices', fontsize=14, fontweight='bold')\n",
    "plt.tight_layout()\n",
    "plt.show()"
   ]
  },
  {
   "cell_type": "code",
   "execution_count": 169,
   "id": "9b1e38e9",
   "metadata": {},
   "outputs": [
    {
     "data": {
      "image/png": "[encoded data removed]",
      "text/plain": [
       "<Figure size 640x480 with 1 Axes>"
      ]
     },
     "metadata": {},
     "output_type": "display_data"
    }
   ],
   "source": [
    "# Filter out extreme outliers (e.g., prices below £1000)\n",
    "reasonable_prices = amazon[amazon['price'] < 400]['price']\n",
    "\n",
    "sns.histplot(reasonable_prices, bins=\"auto\")\n",
    "plt.title('Distribution of Product Prices (< £400)', fontsize=14, fontweight='bold')\n",
    "plt.tight_layout()\n",
    "plt.show()"
   ]
  },
  {
   "cell_type": "code",
   "execution_count": 170,
   "id": "f45e4ccb",
   "metadata": {},
   "outputs": [
    {
     "data": {
      "image/png": "[encoded data removed]",
      "text/plain": [
       "<Figure size 640x480 with 1 Axes>"
      ]
     },
     "metadata": {},
     "output_type": "display_data"
    }
   ],
   "source": [
    "# Use log scale for x-axis\n",
    "plt.xscale('log')\n",
    "sns.histplot(amazon['price'][amazon['price'] > 0], bins=100)\n",
    "plt.title('Distribution of Product Prices (Log Scale)', fontsize=14, fontweight='bold')\n",
    "plt.tight_layout()\n",
    "plt.show()"
   ]
  },
  {
   "cell_type": "code",
   "execution_count": 171,
   "id": "58115c67",
   "metadata": {},
   "outputs": [
    {
     "data": {
      "text/plain": [
       "np.float64(349.5)"
      ]
     },
     "execution_count": 171,
     "metadata": {},
     "output_type": "execute_result"
    }
   ],
   "source": [
    "amazon['price'].quantile(0.95)"
   ]
  },
  {
   "cell_type": "markdown",
   "id": "3fd8f924",
   "metadata": {},
   "source": [
    "When plotting a histogram of the product price distribution (upper plot, Part 2), the values can hardly be seen. The reason for this is the very large price range, with approximately 99% of prices being below £1000, and 95% of the prices below £350.   \n",
    "  \n",
    "  There are several possible ways to address this issue:  \n",
    "    1. Showing the histogram for the majority of products (e.g., middle plot, Part 2) - focusing on the price range where most data points fall;    \n",
    "    2. Applying a logarithmic scale to the x-axis allows for proper presentation of all values across the full range (e.g., lower plot);  \n",
    "    3. Modifying the x-axis with techniques such as axis breaks to compress the extreme value range while maintaining readability;    \n",
    "    4. Verifying that extreme prices are correct (e.g., not typos or data entry errors). If confirmed as accurate, assess whether these values are outliers and decide whether outliers should be excluded from the data/plots."
   ]
  },
  {
   "cell_type": "code",
   "execution_count": 172,
   "id": "0aff0283",
   "metadata": {},
   "outputs": [
    {
     "name": "stdout",
     "output_type": "stream",
     "text": [
      "99% of the prices are below £1408.82\n",
      "The number of the products with the price above 1408.82 is 1, the price for this product is £100000.0\n"
     ]
    }
   ],
   "source": [
    "print(f\"99% of the prices are below £{amazon['price'].quantile(0.99)}\")\n",
    "print(f\"The number of the products with the price above 1408.82 is {len([amazon['price']>1408.82])}, the price for this product is £{amazon['price'].max()}\")"
   ]
  },
  {
   "cell_type": "code",
   "execution_count": 173,
   "id": "a1dd0f25",
   "metadata": {},
   "outputs": [
    {
     "data": {
      "image/png": "[encoded data removed]",
      "text/plain": [
       "<Figure size 300x600 with 1 Axes>"
      ]
     },
     "metadata": {},
     "output_type": "display_data"
    }
   ],
   "source": [
    "plt.figure(figsize=(3, 6))\n",
    "plt.yscale('log')\n",
    "sns.boxplot( y=amazon[\"price\"] )\n",
    "plt.title('Product Prices (Log Scale)', fontsize=14, fontweight='bold')\n",
    "plt.tight_layout()\n",
    "plt.show()"
   ]
  },
  {
   "cell_type": "markdown",
   "id": "9f41cc1d",
   "metadata": {},
   "source": [
    "## Part 3: Unpacking Product Ratings\n",
    "\n",
    "**Business Question**: How do customers rate products on Amazon UK, and are there any patterns or tendencies in the ratings?"
   ]
  },
  {
   "cell_type": "markdown",
   "id": "4f9d044f",
   "metadata": {},
   "source": [
    "1. **Measures of Centrality**:\n",
    "    - Calculate the mean, median, and mode for the `rating` of products.\n",
    "    - How do customers generally rate products? Is there a common trend?"
   ]
  },
  {
   "cell_type": "code",
   "execution_count": 183,
   "id": "ddb79be9",
   "metadata": {},
   "outputs": [
    {
     "name": "stdout",
     "output_type": "stream",
     "text": [
      "Mean: 2.152836472966066\n",
      "Median: 0.0\n",
      "Mode: 0.0\n"
     ]
    }
   ],
   "source": [
    "mean_rating=amazon['stars'].mean()\n",
    "median_rating=amazon['stars'].median()\n",
    "mode_rating=amazon['stars'].mode()[0]\n",
    "\n",
    "print(f\"Mean: {mean_rating}\")\n",
    "print(f\"Median: {median_rating}\")\n",
    "print(f\"Mode: {mode_rating}\")"
   ]
  },
  {
   "cell_type": "code",
   "execution_count": 185,
   "id": "7aefd0e8",
   "metadata": {},
   "outputs": [
    {
     "data": {
      "text/plain": [
       "count    2.443651e+06\n",
       "mean     2.152836e+00\n",
       "std      2.194865e+00\n",
       "min      0.000000e+00\n",
       "25%      0.000000e+00\n",
       "50%      0.000000e+00\n",
       "75%      4.400000e+00\n",
       "max      5.000000e+00\n",
       "Name: stars, dtype: float64"
      ]
     },
     "metadata": {},
     "output_type": "display_data"
    },
    {
     "name": "stdout",
     "output_type": "stream",
     "text": [
      "<class 'pandas.core.series.Series'>\n",
      "RangeIndex: 2443651 entries, 0 to 2443650\n",
      "Series name: stars\n",
      "Non-Null Count    Dtype  \n",
      "--------------    -----  \n",
      "2443651 non-null  float64\n",
      "dtypes: float64(1)\n",
      "memory usage: 18.6 MB\n"
     ]
    },
    {
     "data": {
      "text/plain": [
       "None"
      ]
     },
     "metadata": {},
     "output_type": "display_data"
    },
    {
     "data": {
      "text/plain": [
       "stars\n",
       "0.0    1225641\n",
       "4.5     151577\n",
       "4.6     136995\n",
       "4.4     136165\n",
       "5.0     128492\n",
       "4.3     112564\n",
       "4.7      94566\n",
       "4.2      86871\n",
       "4.0      66089\n",
       "4.1      65115\n",
       "4.8      41858\n",
       "3.9      36555\n",
       "3.8      27876\n",
       "3.7      21137\n",
       "3.6      16219\n",
       "3.5      14673\n",
       "3.0      12819\n",
       "4.9      11081\n",
       "3.4      10355\n",
       "1.0       8484\n",
       "3.3       8269\n",
       "3.2       5771\n",
       "3.1       4679\n",
       "2.0       3901\n",
       "2.9       3341\n",
       "2.8       2306\n",
       "2.7       2104\n",
       "2.5       2103\n",
       "2.6       1579\n",
       "2.4       1060\n",
       "2.3        734\n",
       "2.2        602\n",
       "2.1        540\n",
       "1.5        404\n",
       "1.9        300\n",
       "1.8        249\n",
       "1.7        177\n",
       "1.4        149\n",
       "1.6        147\n",
       "1.3         78\n",
       "1.2         23\n",
       "1.1          3\n",
       "Name: count, dtype: int64"
      ]
     },
     "execution_count": 185,
     "metadata": {},
     "output_type": "execute_result"
    }
   ],
   "source": [
    "display(amazon['stars'].describe())\n",
    "display(amazon['stars'].info())\n",
    "amazon.stars.value_counts()"
   ]
  },
  {
   "cell_type": "code",
   "execution_count": 179,
   "id": "0dac9a99",
   "metadata": {},
   "outputs": [
    {
     "data": {
      "text/plain": [
       "count    2.443651e+06\n",
       "mean     4.806278e+02\n",
       "std      5.944124e+03\n",
       "min      0.000000e+00\n",
       "25%      0.000000e+00\n",
       "50%      0.000000e+00\n",
       "75%      5.900000e+01\n",
       "max      1.356658e+06\n",
       "Name: reviews, dtype: float64"
      ]
     },
     "metadata": {},
     "output_type": "display_data"
    },
    {
     "name": "stdout",
     "output_type": "stream",
     "text": [
      "<class 'pandas.core.series.Series'>\n",
      "RangeIndex: 2443651 entries, 0 to 2443650\n",
      "Series name: reviews\n",
      "Non-Null Count    Dtype\n",
      "--------------    -----\n",
      "2443651 non-null  int64\n",
      "dtypes: int64(1)\n",
      "memory usage: 18.6 MB\n"
     ]
    },
    {
     "data": {
      "text/plain": [
       "None"
      ]
     },
     "metadata": {},
     "output_type": "display_data"
    },
    {
     "data": {
      "text/plain": [
       "reviews\n",
       "0        1225641\n",
       "1          90033\n",
       "2          54452\n",
       "3          39922\n",
       "4          30720\n",
       "          ...   \n",
       "8808           1\n",
       "26910          1\n",
       "14194          1\n",
       "24368          1\n",
       "84267          1\n",
       "Name: count, Length: 19446, dtype: int64"
      ]
     },
     "execution_count": 179,
     "metadata": {},
     "output_type": "execute_result"
    }
   ],
   "source": [
    "display(amazon['reviews'].describe())\n",
    "display(amazon['reviews'].info())\n",
    "amazon.reviews.value_counts()"
   ]
  },
  {
   "cell_type": "code",
   "execution_count": 181,
   "id": "23c4df4d",
   "metadata": {},
   "outputs": [
    {
     "name": "stdout",
     "output_type": "stream",
     "text": [
      "Total products: 2,443,651\n",
      "Products with review data: 2,443,651\n",
      "Products with 0 reviews: 1,225,641\n",
      "Percentage with 0 reviews: 50.2%\n"
     ]
    }
   ],
   "source": [
    "# Total rows in dataset\n",
    "total_rows = len(amazon)\n",
    "\n",
    "# Non-null reviews\n",
    "non_null_reviews = amazon['reviews'].count()\n",
    "\n",
    "# Number of zeros\n",
    "zeros = (amazon['reviews'] == 0).sum()\n",
    "\n",
    "# Percentage of products with 0 reviews\n",
    "zero_percentage = (zeros / non_null_reviews) * 100\n",
    "\n",
    "print(f\"Total products: {total_rows:,}\")\n",
    "print(f\"Products with review data: {non_null_reviews:,}\")\n",
    "print(f\"Products with 0 reviews: {zeros:,}\")\n",
    "print(f\"Percentage with 0 reviews: {zero_percentage:.1f}%\")\n"
   ]
  },
  {
   "cell_type": "code",
   "execution_count": 195,
   "id": "97dd9661",
   "metadata": {},
   "outputs": [
    {
     "name": "stdout",
     "output_type": "stream",
     "text": [
      "Total products: 2,443,651\n",
      "Products with rating data: 2,443,651\n",
      "Products with 0 stars: 1,225,641\n",
      "Percentage with 0 stars: 50.2%\n",
      "Data with 0 ratings equal to data with 0 stars: True\n"
     ]
    }
   ],
   "source": [
    "# Total rows in dataset\n",
    "total_rows = len(amazon)\n",
    "\n",
    "# Non-null reviews\n",
    "non_null_stars = amazon['stars'].count()\n",
    "\n",
    "# Number of zeros\n",
    "zero_stars = (amazon['stars'] == 0).sum()\n",
    "\n",
    "# Percentage of products with 0 reviews\n",
    "zero_percent = (zero_stars / non_null_stars) * 100\n",
    "\n",
    "# Checking if all products with 0 rating have 0 reviews\n",
    "Check=bool(zeros == zero_stars)\n",
    "\n",
    "print(f\"Total products: {total_rows:,}\")\n",
    "print(f\"Products with rating data: {non_null_stars:,}\")\n",
    "print(f\"Products with 0 stars: {zero_stars:,}\")\n",
    "print(f\"Percentage with 0 stars: {zero_percent:.1f}%\")\n",
    "print(f\"Data with 0 ratings equal to data with 0 stars: {Check}\")"
   ]
  },
  {
   "cell_type": "code",
   "execution_count": 197,
   "id": "6a28020c",
   "metadata": {},
   "outputs": [
    {
     "name": "stdout",
     "output_type": "stream",
     "text": [
      "Mean: 4.319160762226911\n",
      "Median: 4.4\n",
      "Mode: 4.5\n"
     ]
    }
   ],
   "source": [
    "# Summary for the rating containing non-zero values\n",
    "non_zeros=amazon[amazon['stars'] > 0]\n",
    "\n",
    "mean_star=non_zeros['stars'].mean()\n",
    "median_star=non_zeros['stars'].median()\n",
    "mode_star=non_zeros['stars'].mode()[0]\n",
    "\n",
    "print(f\"Mean: {mean_star}\")\n",
    "print(f\"Median: {median_star}\")\n",
    "print(f\"Mode: {mode_star}\")"
   ]
  },
  {
   "cell_type": "code",
   "execution_count": 199,
   "id": "549ba61f",
   "metadata": {},
   "outputs": [
    {
     "data": {
      "text/plain": [
       "count    1.218010e+06\n",
       "mean     4.319161e+00\n",
       "std      5.552868e-01\n",
       "min      1.000000e+00\n",
       "25%      4.100000e+00\n",
       "50%      4.400000e+00\n",
       "75%      4.600000e+00\n",
       "max      5.000000e+00\n",
       "Name: stars, dtype: float64"
      ]
     },
     "metadata": {},
     "output_type": "display_data"
    }
   ],
   "source": [
    "display(non_zeros['stars'].describe())"
   ]
  },
  {
   "cell_type": "code",
   "execution_count": 211,
   "id": "4e6c61ce",
   "metadata": {},
   "outputs": [
    {
     "data": {
      "text/html": [
       "<div>\n",
       "<style scoped>\n",
       "    .dataframe tbody tr th:only-of-type {\n",
       "        vertical-align: middle;\n",
       "    }\n",
       "\n",
       "    .dataframe tbody tr th {\n",
       "        vertical-align: top;\n",
       "    }\n",
       "\n",
       "    .dataframe thead th {\n",
       "        text-align: right;\n",
       "    }\n",
       "</style>\n",
       "<table border=\"1\" class=\"dataframe\">\n",
       "  <thead>\n",
       "    <tr style=\"text-align: right;\">\n",
       "      <th></th>\n",
       "      <th>count</th>\n",
       "    </tr>\n",
       "    <tr>\n",
       "      <th>stars</th>\n",
       "      <th></th>\n",
       "    </tr>\n",
       "  </thead>\n",
       "  <tbody>\n",
       "    <tr>\n",
       "      <th>4.5</th>\n",
       "      <td>151577</td>\n",
       "    </tr>\n",
       "    <tr>\n",
       "      <th>4.6</th>\n",
       "      <td>136995</td>\n",
       "    </tr>\n",
       "    <tr>\n",
       "      <th>4.4</th>\n",
       "      <td>136165</td>\n",
       "    </tr>\n",
       "    <tr>\n",
       "      <th>5.0</th>\n",
       "      <td>128492</td>\n",
       "    </tr>\n",
       "    <tr>\n",
       "      <th>4.3</th>\n",
       "      <td>112564</td>\n",
       "    </tr>\n",
       "  </tbody>\n",
       "</table>\n",
       "</div>"
      ],
      "text/plain": [
       "        count\n",
       "stars        \n",
       "4.5    151577\n",
       "4.6    136995\n",
       "4.4    136165\n",
       "5.0    128492\n",
       "4.3    112564"
      ]
     },
     "metadata": {},
     "output_type": "display_data"
    },
    {
     "data": {
      "image/png": "[encoded data removed]",
      "text/plain": [
       "<Figure size 640x480 with 1 Axes>"
      ]
     },
     "metadata": {},
     "output_type": "display_data"
    }
   ],
   "source": [
    "frequency_table2 = non_zeros.stars.value_counts()\n",
    "frequency_table2=pd.DataFrame(frequency_table2)\n",
    "display(frequency_table2.head())\n",
    "\n",
    "plt.xticks(rotation=90, ha='right')\n",
    "sns.barplot(data=frequency_table2, x=\"stars\", y=\"count\", errorbar=None)\n",
    "plt.title('Product Ratings: Distribution', fontsize=14, fontweight='bold')\n",
    "plt.tight_layout()\n",
    "plt.show()"
   ]
  },
  {
   "cell_type": "markdown",
   "id": "5fad862b",
   "metadata": {},
   "source": [
    "How do customers generally rate products? Is there a common trend?  \n",
    "Answer: 50.2% of products' data contains no reviews. This data received value 0 in rating and therefore should be ignored in the analysis.  \n",
    "From rest of the products, 75% of the ratings receive rating above 4.1 with the maximum rating being 5 stars."
   ]
  },
  {
   "cell_type": "markdown",
   "id": "97d3ce34",
   "metadata": {},
   "source": [
    "2. **Measures of Dispersion**:\n",
    "    - Determine the variance, standard deviation, and interquartile range for product `rating`.\n",
    "    - Are the ratings consistent, or is there a wide variation in customer feedback?"
   ]
  },
  {
   "cell_type": "code",
   "execution_count": 200,
   "id": "f9b9f985",
   "metadata": {},
   "outputs": [
    {
     "name": "stdout",
     "output_type": "stream",
     "text": [
      "Variance: 0.31\n",
      "Standard deviation: 0.56\n",
      "Range: 4.0\n",
      "Interquartile range: 0.5\n"
     ]
    }
   ],
   "source": [
    "variance_r=round(non_zeros['stars'].var(), 2)\n",
    "stdev_r=round(non_zeros['stars'].std(), 2)\n",
    "star_range=round(non_zeros['stars'].max()-non_zeros['stars'].min(), 2)\n",
    "iq_range_r=round((non_zeros['stars'].quantile(0.75) - non_zeros['stars'].quantile(0.25)), 2)  \n",
    "\n",
    "print(f\"Variance: {variance_r}\")\n",
    "print(f\"Standard deviation: {stdev_r}\")\n",
    "print(f\"Range: {star_range}\")\n",
    "print(f\"Interquartile range: {iq_range_r}\")"
   ]
  },
  {
   "cell_type": "markdown",
   "id": "a3875e44",
   "metadata": {},
   "source": [
    "Are the ratings consistent, or is there a wide variation in customer feedback?  \n",
    "Answer: although the range is large (4 out of 5), half of the ratings fall into 0.5 star ratings. As we have seen earlier, 75% of ratings are above 4.1. Therefore, the ratings are consistent."
   ]
  },
  {
   "cell_type": "markdown",
   "id": "fe8704a3",
   "metadata": {},
   "source": [
    "3. **Shape of the Distribution**:\n",
    "    - Calculate the skewness and kurtosis for the `rating` column. \n",
    "    - Are the ratings normally distributed, or do they lean towards higher or lower values?"
   ]
  },
  {
   "cell_type": "code",
   "execution_count": 202,
   "id": "0f6d8276",
   "metadata": {},
   "outputs": [
    {
     "name": "stdout",
     "output_type": "stream",
     "text": [
      "Skewness: -2.379568112212799\n",
      "Kurtosis: 9.78193769066435\n"
     ]
    }
   ],
   "source": [
    "print(f\"Skewness: {non_zeros[\"stars\"].skew()}\")\n",
    "print(f\"Kurtosis: {non_zeros[\"stars\"].kurtosis()}\")"
   ]
  },
  {
   "cell_type": "markdown",
   "id": "a36a5cbd",
   "metadata": {},
   "source": [
    "Are the ratings normally distributed, or do they lean towards higher or lower values?  \n",
    "Since the skewness and kurtosis are far from 0 (0 indicates normality), we could conclude that the ratings' distribution is not normal.  \n",
    "The negative skewness of -2.38 indicates a strong left-skewed (negatively skewed) distribution. This means the ratings lean towards higher values, with most ratings concentrated on the higher end of the scale.   \n"
   ]
  },
  {
   "cell_type": "markdown",
   "id": "000eb972",
   "metadata": {},
   "source": []
  },
  {
   "cell_type": "markdown",
   "id": "f1c34c5c",
   "metadata": {},
   "source": [
    "4. **Visualizations**:\n",
    "    - Plot a histogram to visualize the distribution of product ratings. Is there a specific rating that is more common?"
   ]
  },
  {
   "cell_type": "code",
   "execution_count": 204,
   "id": "27a21491",
   "metadata": {},
   "outputs": [
    {
     "data": {
      "image/png": "[encoded data removed]",
      "text/plain": [
       "<Figure size 640x480 with 1 Axes>"
      ]
     },
     "metadata": {},
     "output_type": "display_data"
    }
   ],
   "source": [
    "sns.histplot(non_zeros.stars, bins=\"auto\")\n",
    "plt.title(\"Distribution of Products' Ratings (>0)\", fontsize=14, fontweight='bold')\n",
    "plt.tight_layout()\n",
    "plt.show()"
   ]
  },
  {
   "cell_type": "markdown",
   "id": "f0146fc2",
   "metadata": {},
   "source": [
    "The most common rating is 4.5, closely followed by 4.4 and 4.6 and then 5.0."
   ]
  },
  {
   "cell_type": "markdown",
   "id": "1d5b97c3",
   "metadata": {},
   "source": [
    "**Submission**: Submit a Jupyter Notebook which contains code and a business-centric report summarizing your findings."
   ]
  },
  {
   "cell_type": "markdown",
   "id": "2d324033",
   "metadata": {},
   "source": [
    "**Summary & Insights:**  \n",
    "The analysis of Amazon UK product data reveals key insights into product distribution, pricing, and customer satisfaction.  \n",
    "\n",
    "Product Distribution:\n",
    "- Sports & Outdoors dominates the marketplace with 836,265 listings (34.2%), significantly outpacing other categories.  \n",
    "Product Prices:  \n",
    "- Product prices show extreme variability (range: £100,000; SD: £345.61), with 95% of products priced below £350, though the mean price is £89.24 due to outliers.   \n",
    "Product Ratings:  \n",
    "- Product ratings show a strong positive skew (skewness: -2.38), indicating most customers provide high ratings, with 75% of rated products scoring above 4.1 stars.   \n",
    "- The exceptionally high kurtosis (9.78) suggests occasional extreme deviations from typical ratings, pointing to either outstanding or low-quality products. The low rating variance (0.31) and standard deviation (0.56) demonstrate relatively consistent customer satisfaction across the platform."
   ]
  },
  {
   "cell_type": "markdown",
   "id": "441d575e",
   "metadata": {},
   "source": [
    "**Future Directions:**  \n",
    "\n",
    "Based on this exploratory analysis, several avenues warrant further investigation:\n",
    "1. **Category-specific pricing strategies:** Examine whether pricing patterns differ significantly across product categories\n",
    "2. **Rating-price correlation:** Investigate whether higher-priced products receive different rating distributions\n",
    "3. **Outlier analysis:** Identify and analyze the characteristics of extreme-priced products and products with polarizing ratings"
   ]
  }
 ],
 "metadata": {
  "kernelspec": {
   "display_name": "Python 3",
   "language": "python",
   "name": "python3"
  },
  "language_info": {
   "codemirror_mode": {
    "name": "ipython",
    "version": 3
   },
   "file_extension": ".py",
   "mimetype": "text/x-python",
   "name": "python",
   "nbconvert_exporter": "python",
   "pygments_lexer": "ipython3",
   "version": "3.12.7"
  }
 },
 "nbformat": 4,
 "nbformat_minor": 5
}
